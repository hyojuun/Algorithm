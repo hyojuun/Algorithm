{
 "cells": [
  {
   "cell_type": "markdown",
   "metadata": {},
   "source": [
    "# kakao 2023 신입 공채 1차 온라인 코딩 테스트 for Tech developers"
   ]
  },
  {
   "cell_type": "markdown",
   "metadata": {},
   "source": [
    "## 문제 6. 미로 탈출 명령어"
   ]
  },
  {
   "cell_type": "markdown",
   "metadata": {},
   "source": [
    "### 6-1 DFS\n",
    "- 깊이 우선 탐색\n",
    "- [DFS 참고 사이트](https://data-marketing-bk.tistory.com/entry/DFS-%EC%99%84%EB%B2%BD-%EA%B5%AC%ED%98%84%ED%95%98%EA%B8%B0-%ED%8C%8C%EC%9D%B4%EC%8D%AC)"
   ]
  },
  {
   "cell_type": "markdown",
   "metadata": {},
   "source": [
    "![DFS, BFS](https://www.fun-coding.org/00_Images/BFSDFS.png)"
   ]
  },
  {
   "cell_type": "code",
   "execution_count": 1,
   "metadata": {},
   "outputs": [],
   "source": [
    "# graph 정의\n",
    "\n",
    "graph = dict()\n",
    " \n",
    "graph['A'] = ['B', 'C']\n",
    "graph['B'] = ['A', 'D']\n",
    "graph['C'] = ['A', 'G', 'H', 'I']\n",
    "graph['D'] = ['B', 'E', 'F']\n",
    "graph['E'] = ['D']\n",
    "graph['F'] = ['D']\n",
    "graph['G'] = ['C']\n",
    "graph['H'] = ['C']\n",
    "graph['I'] = ['C', 'J']\n",
    "graph['J'] = ['I']"
   ]
  },
  {
   "cell_type": "code",
   "execution_count": 2,
   "metadata": {},
   "outputs": [],
   "source": [
    "# list를 활용한 dfs\n",
    "\n",
    "def dfs(graph, start_node):\n",
    " \n",
    "    # 기본은 항상 두개의 리스트를 별도로 관리해주는 것\n",
    "    need_visited, visited = list(), list()\n",
    " \n",
    "    # 시작 노드를 시정하기 \n",
    "    need_visited.append(start_node)\n",
    "    \n",
    "    # 만약 아직도 방문이 필요한 노드가 있다면,\n",
    "    while need_visited:\n",
    " \n",
    "        # 그 중에서 가장 마지막 데이터를 추출 (스택 구조의 활용)\n",
    "        node = need_visited.pop()\n",
    "        \n",
    "        # 만약 그 노드가 방문한 목록에 없다면\n",
    "        if node not in visited:\n",
    " \n",
    "            # 방문한 목록에 추가하기 \n",
    "            visited.append(node)\n",
    " \n",
    "            # 그 노드에 연결된 노드를 \n",
    "            need_visited.extend(graph[node])\n",
    "            \n",
    "    return visited\n",
    "\n",
    "# list에서 사용한 pop의 경우 성능 측면에서 떨어짐"
   ]
  },
  {
   "cell_type": "code",
   "execution_count": 5,
   "metadata": {},
   "outputs": [
    {
     "data": {
      "text/plain": [
       "['A', 'C', 'I', 'J', 'H', 'G', 'B', 'D', 'F', 'E']"
      ]
     },
     "execution_count": 5,
     "metadata": {},
     "output_type": "execute_result"
    }
   ],
   "source": [
    "dfs(graph, 'A')"
   ]
  },
  {
   "cell_type": "code",
   "execution_count": 3,
   "metadata": {},
   "outputs": [],
   "source": [
    "# deque()를 활용한 dfs 구현\n",
    "\n",
    "from collections import deque\n",
    "\n",
    "def dfs2(graph, start_node):\n",
    "    visited = []\n",
    "    need_visited = deque()\n",
    "    \n",
    "    ##시작 노드 설정해주기\n",
    "    need_visited.append(start_node)\n",
    "    \n",
    "    ## 방문이 필요한 리스트가 아직 존재한다면\n",
    "    while need_visited:\n",
    "        ## 시작 노드를 지정하고\n",
    "        node = need_visited.pop()\n",
    " \n",
    "        ##만약 방문한 리스트에 없다면\n",
    "        if node not in visited:\n",
    " \n",
    "            ## 방문 리스트에 노드를 추가\n",
    "            visited.append(node)\n",
    "            ## 인접 노드들을 방문 예정 리스트에 추가\n",
    "            need_visited.extend(graph[node])\n",
    "                \n",
    "    return visited\n",
    "\n",
    "# deque의 경우 list와 논리는 비슷하지만 성능면에서 효율적임"
   ]
  },
  {
   "cell_type": "code",
   "execution_count": 6,
   "metadata": {},
   "outputs": [
    {
     "data": {
      "text/plain": [
       "['A', 'C', 'I', 'J', 'H', 'G', 'B', 'D', 'F', 'E']"
      ]
     },
     "execution_count": 6,
     "metadata": {},
     "output_type": "execute_result"
    }
   ],
   "source": [
    "dfs2(graph, 'A')"
   ]
  },
  {
   "cell_type": "code",
   "execution_count": 4,
   "metadata": {},
   "outputs": [],
   "source": [
    "# 재귀함수를 사용\n",
    "\n",
    "def dfs_recursive(graph, start, visited = []):\n",
    "# 데이터를 추가하는 명령어 / 재귀가 이루어짐 \n",
    "    visited.append(start)\n",
    " \n",
    "    for node in graph[start]:\n",
    "        if node not in visited:\n",
    "            dfs_recursive(graph, node, visited)\n",
    "    return visited"
   ]
  },
  {
   "cell_type": "code",
   "execution_count": 7,
   "metadata": {},
   "outputs": [
    {
     "data": {
      "text/plain": [
       "['A', 'B', 'D', 'E', 'F', 'C', 'G', 'H', 'I', 'J']"
      ]
     },
     "execution_count": 7,
     "metadata": {},
     "output_type": "execute_result"
    }
   ],
   "source": [
    "dfs_recursive(graph, 'A')"
   ]
  },
  {
   "cell_type": "code",
   "execution_count": 6,
   "metadata": {},
   "outputs": [],
   "source": [
    "import sys\n",
    "\n",
    "input = sys.stdin.readline\n",
    "sys.setrecursionlimit(10**8)\n",
    "\n",
    "move_x = [1, 0, 0, -1]\n",
    "move_y = [0, -1, 1, 0]\n",
    "dir = ['d', 'l', 'r', 'u']\n",
    "answer = 'z'\n",
    "\n",
    "def check_valid(moved_x, moved_y, n, m):\n",
    "    return 1 <= moved_x and moved_x <= n and 1 <= moved_y and moved_y <= m\n",
    "\n",
    "\n",
    "def dfs(n, m, x, y, r, c, route, cnt, k):\n",
    "    global answer\n",
    "    if k < cnt + abs(r - x) + abs(c - y):\n",
    "        return\n",
    "    if x == r and y == c and cnt == k:\n",
    "        answer = route\n",
    "        return\n",
    "    for i in range(4):\n",
    "        if check_valid(x + move_x[i], y + move_y[i], n, m) and route < answer:\n",
    "            dfs(n, m, x + move_x[i], y + move_y[i], r, c, route+dir[i], cnt + 1, k)\n",
    "            \n",
    "\n",
    "def solution(n, m, x, y, r, c, k):\n",
    "    \n",
    "    if ((abs(r - x) + abs(c - y)) % 2 == 1 and k % 2 == 0) or ((abs(r - x) + abs(c - y)) % 2 == 0 and k % 2 == 1) or ((abs(r - x) + abs(c - y)) > k):\n",
    "        return \"impossible\"\n",
    "    \n",
    "    dfs(n, m, x, y, r, c, '', 0, k)\n",
    "    \n",
    "    return answer"
   ]
  }
 ],
 "metadata": {
  "kernelspec": {
   "display_name": "CodingTest",
   "language": "python",
   "name": "python3"
  },
  "language_info": {
   "codemirror_mode": {
    "name": "ipython",
    "version": 3
   },
   "file_extension": ".py",
   "mimetype": "text/x-python",
   "name": "python",
   "nbconvert_exporter": "python",
   "pygments_lexer": "ipython3",
   "version": "3.8.18"
  },
  "orig_nbformat": 4
 },
 "nbformat": 4,
 "nbformat_minor": 2
}
