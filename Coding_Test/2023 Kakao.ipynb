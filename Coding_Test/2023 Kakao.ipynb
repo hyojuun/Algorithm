{
 "cells": [
  {
   "cell_type": "markdown",
   "metadata": {},
   "source": [
    "# Kakao 2023 신입 공채 1차 온라인 코딩 테스트 for Tech developers"
   ]
  },
  {
   "cell_type": "markdown",
   "metadata": {},
   "source": [
    "## 문제 6. 미로 탈출 명령어"
   ]
  },
  {
   "cell_type": "code",
   "execution_count": 6,
   "metadata": {},
   "outputs": [],
   "source": [
    "import sys\n",
    "\n",
    "input = sys.stdin.readline\n",
    "sys.setrecursionlimit(10**8)\n",
    "\n",
    "move_x = [1, 0, 0, -1]\n",
    "move_y = [0, -1, 1, 0]\n",
    "dir = ['d', 'l', 'r', 'u']\n",
    "answer = 'z'\n",
    "\n",
    "def check_valid(moved_x, moved_y, n, m):\n",
    "    return 1 <= moved_x and moved_x <= n and 1 <= moved_y and moved_y <= m\n",
    "\n",
    "\n",
    "def dfs(n, m, x, y, r, c, route, cnt, k):\n",
    "    global answer\n",
    "    if k < cnt + abs(r - x) + abs(c - y):\n",
    "        return\n",
    "    if x == r and y == c and cnt == k:\n",
    "        answer = route\n",
    "        return\n",
    "    for i in range(4):\n",
    "        if check_valid(x + move_x[i], y + move_y[i], n, m) and route < answer:\n",
    "            dfs(n, m, x + move_x[i], y + move_y[i], r, c, route+dir[i], cnt + 1, k)\n",
    "            \n",
    "\n",
    "def solution(n, m, x, y, r, c, k):\n",
    "    \n",
    "    if ((abs(r - x) + abs(c - y)) % 2 == 1 and k % 2 == 0) or ((abs(r - x) + abs(c - y)) % 2 == 0 and k % 2 == 1) or ((abs(r - x) + abs(c - y)) > k):\n",
    "        return \"impossible\"\n",
    "    \n",
    "    dfs(n, m, x, y, r, c, '', 0, k)\n",
    "    \n",
    "    return answer"
   ]
  },
  {
   "cell_type": "code",
   "execution_count": 3,
   "metadata": {},
   "outputs": [
    {
     "name": "stdout",
     "output_type": "stream",
     "text": [
      "hi\n"
     ]
    }
   ],
   "source": [
    "temp = \"\"\n",
    "temp = temp + \"hi\"\n",
    "print(temp)"
   ]
  },
  {
   "cell_type": "code",
   "execution_count": null,
   "metadata": {},
   "outputs": [],
   "source": []
  }
 ],
 "metadata": {
  "kernelspec": {
   "display_name": "CodingTest",
   "language": "python",
   "name": "python3"
  },
  "language_info": {
   "codemirror_mode": {
    "name": "ipython",
    "version": 3
   },
   "file_extension": ".py",
   "mimetype": "text/x-python",
   "name": "python",
   "nbconvert_exporter": "python",
   "pygments_lexer": "ipython3",
   "version": "3.8.18"
  },
  "orig_nbformat": 4
 },
 "nbformat": 4,
 "nbformat_minor": 2
}
