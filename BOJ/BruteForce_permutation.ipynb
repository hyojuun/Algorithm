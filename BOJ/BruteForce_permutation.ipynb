{
 "cells": [
  {
   "cell_type": "markdown",
   "metadata": {},
   "source": [
    "# BruteForce_permutation"
   ]
  },
  {
   "cell_type": "markdown",
   "metadata": {
    "vscode": {
     "languageId": "plaintext"
    }
   },
   "source": [
    "### 2529번 부등호"
   ]
  },
  {
   "cell_type": "markdown",
   "metadata": {},
   "source": [
    "#### permutation"
   ]
  },
  {
   "cell_type": "code",
   "execution_count": 3,
   "metadata": {},
   "outputs": [
    {
     "name": "stdout",
     "output_type": "stream",
     "text": [
      "9567843012\n",
      "1023765489\n"
     ]
    }
   ],
   "source": [
    "import sys\n",
    "from itertools import permutations\n",
    "\n",
    "input = sys.stdin.readline\n",
    "k = int(input())\n",
    "inequal_sign = list(map(str, input().split()))\n",
    "\n",
    "answer = []\n",
    "num = [i for i in range(10)]\n",
    "\n",
    "# permutaions로 전체 숫자 배열을 구한 후 부등호를 기준으로 숫자 비교\n",
    "for per in permutations(num, k+1):\n",
    "    for i in range(len(inequal_sign)):\n",
    "        if inequal_sign[i] == '>':\n",
    "            if per[i] < per[i+1]:\n",
    "                break\n",
    "        else:\n",
    "            if per[i] > per[i+1]:\n",
    "                break\n",
    "\n",
    "    # break로 종료되지 않은 경우 실행되는 else:\n",
    "    else:\n",
    "        answer.append(per)\n",
    "\n",
    "answer.sort()\n",
    "print(''.join(map(str, answer[-1])))\n",
    "print(''.join(map(str, answer[0])))\n",
    "\n",
    "\n"
   ]
  },
  {
   "cell_type": "markdown",
   "metadata": {},
   "source": [
    "#### recursive"
   ]
  },
  {
   "cell_type": "markdown",
   "metadata": {},
   "source": []
  },
  {
   "cell_type": "code",
   "execution_count": null,
   "metadata": {},
   "outputs": [],
   "source": []
  }
 ],
 "metadata": {
  "kernelspec": {
   "display_name": "CodingTest",
   "language": "python",
   "name": "python3"
  },
  "language_info": {
   "codemirror_mode": {
    "name": "ipython",
    "version": 3
   },
   "file_extension": ".py",
   "mimetype": "text/x-python",
   "name": "python",
   "nbconvert_exporter": "python",
   "pygments_lexer": "ipython3",
   "version": "3.8.18"
  },
  "orig_nbformat": 4
 },
 "nbformat": 4,
 "nbformat_minor": 2
}
