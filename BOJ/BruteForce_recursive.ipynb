{
 "cells": [
  {
   "cell_type": "markdown",
   "metadata": {},
   "source": [
    "# BruteForce_recursive"
   ]
  },
  {
   "cell_type": "markdown",
   "metadata": {},
   "source": [
    "### [6603] 로또"
   ]
  },
  {
   "cell_type": "markdown",
   "metadata": {},
   "source": [
    "##### recursive"
   ]
  },
  {
   "cell_type": "code",
   "execution_count": 4,
   "metadata": {},
   "outputs": [
    {
     "name": "stdout",
     "output_type": "stream",
     "text": [
      "1 2 3 4 5 6\n",
      "1 2 3 4 5 7\n",
      "1 2 3 4 6 7\n",
      "1 2 3 5 6 7\n",
      "1 2 4 5 6 7\n",
      "1 3 4 5 6 7\n",
      "2 3 4 5 6 7\n",
      "\n",
      "1 2 3 5 8 13\n",
      "1 2 3 5 8 21\n",
      "1 2 3 5 8 34\n",
      "1 2 3 5 13 21\n",
      "1 2 3 5 13 34\n",
      "1 2 3 5 21 34\n",
      "1 2 3 8 13 21\n",
      "1 2 3 8 13 34\n",
      "1 2 3 8 21 34\n",
      "1 2 3 13 21 34\n",
      "1 2 5 8 13 21\n",
      "1 2 5 8 13 34\n",
      "1 2 5 8 21 34\n",
      "1 2 5 13 21 34\n",
      "1 2 8 13 21 34\n",
      "1 3 5 8 13 21\n",
      "1 3 5 8 13 34\n",
      "1 3 5 8 21 34\n",
      "1 3 5 13 21 34\n",
      "1 3 8 13 21 34\n",
      "1 5 8 13 21 34\n",
      "2 3 5 8 13 21\n",
      "2 3 5 8 13 34\n",
      "2 3 5 8 21 34\n",
      "2 3 5 13 21 34\n",
      "2 3 8 13 21 34\n",
      "2 5 8 13 21 34\n",
      "3 5 8 13 21 34\n",
      "\n"
     ]
    }
   ],
   "source": [
    "# 입력\n",
    "input_lists = []\n",
    "while True:\n",
    "    input_list = list(map(int, input().split()))\n",
    "    if input_list[0] != 0:\n",
    "        input_lists.append(input_list)\n",
    "    else:\n",
    "        break\n",
    "\n",
    "# 재귀\n",
    "def dfs(depth, idx):\n",
    "    if depth == 6:\n",
    "        print(*answer)\n",
    "        return\n",
    "    else:\n",
    "        for i in range(idx, k):\n",
    "            answer.append(S[i])\n",
    "            dfs(depth+1, i+1)\n",
    "            answer.pop()\n",
    "\n",
    "# 실행\n",
    "for case in input_lists:\n",
    "    k = case[0]\n",
    "    S = case[1:]\n",
    "    answer = []\n",
    "    dfs(0, 0)\n",
    "    print()\n",
    "    \n",
    "\n"
   ]
  },
  {
   "cell_type": "markdown",
   "metadata": {},
   "source": [
    "##### combinations"
   ]
  },
  {
   "cell_type": "code",
   "execution_count": 3,
   "metadata": {},
   "outputs": [
    {
     "name": "stdout",
     "output_type": "stream",
     "text": [
      "1 2 3 4 5 6\n",
      "1 2 3 4 5 7\n",
      "1 2 3 4 6 7\n",
      "1 2 3 5 6 7\n",
      "1 2 4 5 6 7\n",
      "1 3 4 5 6 7\n",
      "2 3 4 5 6 7\n",
      "\n",
      "1 2 3 5 8 13\n",
      "1 2 3 5 8 21\n",
      "1 2 3 5 8 34\n",
      "1 2 3 5 13 21\n",
      "1 2 3 5 13 34\n",
      "1 2 3 5 21 34\n",
      "1 2 3 8 13 21\n",
      "1 2 3 8 13 34\n",
      "1 2 3 8 21 34\n",
      "1 2 3 13 21 34\n",
      "1 2 5 8 13 21\n",
      "1 2 5 8 13 34\n",
      "1 2 5 8 21 34\n",
      "1 2 5 13 21 34\n",
      "1 2 8 13 21 34\n",
      "1 3 5 8 13 21\n",
      "1 3 5 8 13 34\n",
      "1 3 5 8 21 34\n",
      "1 3 5 13 21 34\n",
      "1 3 8 13 21 34\n",
      "1 5 8 13 21 34\n",
      "2 3 5 8 13 21\n",
      "2 3 5 8 13 34\n",
      "2 3 5 8 21 34\n",
      "2 3 5 13 21 34\n",
      "2 3 8 13 21 34\n",
      "2 5 8 13 21 34\n",
      "3 5 8 13 21 34\n",
      "\n"
     ]
    }
   ],
   "source": [
    "from itertools import *\n",
    "\n",
    "# 입력\n",
    "input_lists = []\n",
    "while True:\n",
    "    input_list = list(map(int, input().split()))\n",
    "    if input_list[0] != 0:\n",
    "        input_lists.append(input_list)\n",
    "    else:\n",
    "        break\n",
    "\n",
    "# 실행\n",
    "for case in input_lists:\n",
    "    k = case[0]\n",
    "    S = case[1:]\n",
    "    answers = combinations(S, 6)\n",
    "    for answer in answers:\n",
    "        print(*answer)\n",
    "    print()"
   ]
  },
  {
   "cell_type": "markdown",
   "metadata": {},
   "source": [
    "##### [참고]"
   ]
  },
  {
   "cell_type": "code",
   "execution_count": 6,
   "metadata": {},
   "outputs": [],
   "source": [
    "for i in range(7, 7):\n",
    "    print(i)  # range에서 앞의 숫자가 크면 출력 안 됨"
   ]
  },
  {
   "cell_type": "markdown",
   "metadata": {},
   "source": [
    "### [9663] N-Queen"
   ]
  },
  {
   "cell_type": "markdown",
   "metadata": {},
   "source": [
    "##### recursive"
   ]
  },
  {
   "cell_type": "code",
   "execution_count": null,
   "metadata": {},
   "outputs": [],
   "source": [
    "# 입력\n",
    "N = int(input())\n",
    "count_result = 0\n",
    "row = [0] * N\n",
    "\n",
    "def is_promising(depth):\n",
    "    pass\n",
    "\n",
    "def solve(depth):\n",
    "    global count_result\n",
    "    \n",
    "    if depth == N:\n",
    "        count_result += 1\n",
    "        return\n",
    "    \n",
    "    else:\n",
    "        for i in range(N):\n",
    "            if is_promising(i):\n",
    "                solve(i)"
   ]
  },
  {
   "cell_type": "markdown",
   "metadata": {},
   "source": [
    "#### [1987] 알파벳"
   ]
  },
  {
   "cell_type": "code",
   "execution_count": 30,
   "metadata": {},
   "outputs": [
    {
     "name": "stdout",
     "output_type": "stream",
     "text": [
      "10\n"
     ]
    }
   ],
   "source": [
    "R, C = map(int, input().split())\n",
    "\n",
    "Map = []\n",
    "for _ in range(R):\n",
    "    temp_list = input()\n",
    "    temp_list = list(temp_list)\n",
    "    Map.append(temp_list)\n",
    "\n",
    "answer = 0\n",
    "dx = [-1, 1, 0, 0]\n",
    "dy = [0, 0, -1, 1]\n",
    "alphabets = set()\n",
    "\n",
    "def solve(x, y, depth):\n",
    "    global answer\n",
    "    if depth < answer:\n",
    "        pass\n",
    "    else:\n",
    "        answer = depth\n",
    "    \n",
    "    for i in range(4):\n",
    "        nx = x + dx[i]\n",
    "        ny = y + dy[i]\n",
    "        if 0 <= nx < R and 0 <= ny < C and not Map[nx][ny] in alphabets:\n",
    "            alphabets.add(Map[nx][ny])\n",
    "            solve(nx, ny, depth+1)\n",
    "            alphabets.remove(Map[nx][ny])\n",
    "\n",
    "alphabets.add(Map[0][0])\n",
    "solve(0, 0, 1)\n",
    "print(answer)"
   ]
  }
 ],
 "metadata": {
  "kernelspec": {
   "display_name": "CodingTest",
   "language": "python",
   "name": "python3"
  },
  "language_info": {
   "codemirror_mode": {
    "name": "ipython",
    "version": 3
   },
   "file_extension": ".py",
   "mimetype": "text/x-python",
   "name": "python",
   "nbconvert_exporter": "python",
   "pygments_lexer": "ipython3",
   "version": "3.8.18"
  }
 },
 "nbformat": 4,
 "nbformat_minor": 2
}
