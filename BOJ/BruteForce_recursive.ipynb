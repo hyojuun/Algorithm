{
 "cells": [
  {
   "cell_type": "markdown",
   "metadata": {},
   "source": [
    "# BruteForce_recursive"
   ]
  },
  {
   "cell_type": "markdown",
   "metadata": {},
   "source": [
    "### [6603] 로또"
   ]
  },
  {
   "cell_type": "markdown",
   "metadata": {},
   "source": [
    "##### 재귀"
   ]
  },
  {
   "cell_type": "code",
   "execution_count": null,
   "metadata": {},
   "outputs": [],
   "source": [
    "# 입력\n",
    "input_lists = []\n",
    "while True:\n",
    "    input_list = list(map(int, input().split()))\n",
    "    if input_list[0] != 0:\n",
    "        input_lists.append(input_list)\n",
    "    else:\n",
    "        break\n",
    "\n",
    "for case in input_lists:\n",
    "    k = case[0]\n",
    "    S = case[1:]\n",
    "\n"
   ]
  },
  {
   "cell_type": "markdown",
   "metadata": {},
   "source": [
    "##### 조합"
   ]
  },
  {
   "cell_type": "code",
   "execution_count": 1,
   "metadata": {},
   "outputs": [
    {
     "name": "stdout",
     "output_type": "stream",
     "text": [
      "(1, 2, 3, 4, 5, 6)\n",
      "(1, 2, 3, 4, 5, 7)\n",
      "(1, 2, 3, 4, 6, 7)\n",
      "(1, 2, 3, 5, 6, 7)\n",
      "(1, 2, 4, 5, 6, 7)\n",
      "(1, 3, 4, 5, 6, 7)\n",
      "(2, 3, 4, 5, 6, 7)\n",
      "\n",
      "(1, 2, 3, 5, 8, 13)\n",
      "(1, 2, 3, 5, 8, 24)\n",
      "(1, 2, 3, 5, 8, 34)\n",
      "(1, 2, 3, 5, 13, 24)\n",
      "(1, 2, 3, 5, 13, 34)\n",
      "(1, 2, 3, 5, 24, 34)\n",
      "(1, 2, 3, 8, 13, 24)\n",
      "(1, 2, 3, 8, 13, 34)\n",
      "(1, 2, 3, 8, 24, 34)\n",
      "(1, 2, 3, 13, 24, 34)\n",
      "(1, 2, 5, 8, 13, 24)\n",
      "(1, 2, 5, 8, 13, 34)\n",
      "(1, 2, 5, 8, 24, 34)\n",
      "(1, 2, 5, 13, 24, 34)\n",
      "(1, 2, 8, 13, 24, 34)\n",
      "(1, 3, 5, 8, 13, 24)\n",
      "(1, 3, 5, 8, 13, 34)\n",
      "(1, 3, 5, 8, 24, 34)\n",
      "(1, 3, 5, 13, 24, 34)\n",
      "(1, 3, 8, 13, 24, 34)\n",
      "(1, 5, 8, 13, 24, 34)\n",
      "(2, 3, 5, 8, 13, 24)\n",
      "(2, 3, 5, 8, 13, 34)\n",
      "(2, 3, 5, 8, 24, 34)\n",
      "(2, 3, 5, 13, 24, 34)\n",
      "(2, 3, 8, 13, 24, 34)\n",
      "(2, 5, 8, 13, 24, 34)\n",
      "(3, 5, 8, 13, 24, 34)\n",
      "\n"
     ]
    }
   ],
   "source": [
    "from itertools import *\n",
    "\n",
    "# 입력\n",
    "input_lists = []\n",
    "while True:\n",
    "    input_list = list(map(int, input().split()))\n",
    "    if input_list[0] != 0:\n",
    "        input_lists.append(input_list)\n",
    "    else:\n",
    "        break\n",
    "\n",
    "for case in input_lists:\n",
    "    k = case[0]\n",
    "    S = case[1:]\n",
    "    answers = combinations(S, 6)\n",
    "    for answer in answers:\n",
    "        print(answer)\n",
    "    print()"
   ]
  },
  {
   "cell_type": "code",
   "execution_count": null,
   "metadata": {},
   "outputs": [],
   "source": []
  }
 ],
 "metadata": {
  "kernelspec": {
   "display_name": "CodingTest",
   "language": "python",
   "name": "python3"
  },
  "language_info": {
   "codemirror_mode": {
    "name": "ipython",
    "version": 3
   },
   "file_extension": ".py",
   "mimetype": "text/x-python",
   "name": "python",
   "nbconvert_exporter": "python",
   "pygments_lexer": "ipython3",
   "version": "3.8.18"
  }
 },
 "nbformat": 4,
 "nbformat_minor": 2
}
